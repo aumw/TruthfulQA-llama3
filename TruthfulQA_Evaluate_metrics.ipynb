{
  "cells": [
    {
      "cell_type": "code",
      "execution_count": null,
      "metadata": {
        "id": "BXutNpXbLtw4"
      },
      "outputs": [],
      "source": [
        "pip install t5"
      ]
    },
    {
      "cell_type": "code",
      "execution_count": null,
      "metadata": {
        "collapsed": true,
        "id": "YbwaGSq1KI5v"
      },
      "outputs": [],
      "source": [
        "pip install datasets"
      ]
    },
    {
      "cell_type": "code",
      "execution_count": null,
      "metadata": {
        "collapsed": true,
        "id": "ot8OoKaMLUf3"
      },
      "outputs": [],
      "source": [
        "pip install openai"
      ]
    },
    {
      "cell_type": "code",
      "execution_count": null,
      "metadata": {
        "collapsed": true,
        "id": "M3S7XNwDIW3P"
      },
      "outputs": [],
      "source": [
        "!git clone https://github.com/sylinrl/TruthfulQA.git"
      ]
    },
    {
      "cell_type": "code",
      "execution_count": null,
      "metadata": {
        "id": "ZBJ3l0aBIt3I"
      },
      "outputs": [],
      "source": [
        "cd TruthfulQA"
      ]
    },
    {
      "cell_type": "code",
      "execution_count": null,
      "metadata": {
        "collapsed": true,
        "id": "gxn2yWoLI0FR"
      },
      "outputs": [],
      "source": [
        "!pip install -r requirements.txt"
      ]
    },
    {
      "cell_type": "code",
      "execution_count": null,
      "metadata": {
        "collapsed": true,
        "id": "8WXDscN3I3Q7"
      },
      "outputs": [],
      "source": [
        "!pip install -e ."
      ]
    },
    {
      "cell_type": "code",
      "execution_count": null,
      "metadata": {
        "collapsed": true,
        "id": "evujTtxQPs2e"
      },
      "outputs": [],
      "source": [
        "pip install git+https://github.com/google-research/bleurt.git"
      ]
    },
    {
      "cell_type": "code",
      "execution_count": null,
      "metadata": {
        "collapsed": true,
        "id": "XDIR6FL7TbwJ"
      },
      "outputs": [],
      "source": [
        "pip install tensorrt"
      ]
    },
    {
      "cell_type": "code",
      "execution_count": null,
      "metadata": {
        "id": "cY27UD-j5Epo"
      },
      "outputs": [],
      "source": [
        "import torch\n",
        "torch.cuda.is_available()\n",
        "torch.cuda.device_count()\n",
        "torch.cuda.current_device()\n",
        "torch.cuda.get_device_name(0)"
      ]
    },
    {
      "cell_type": "code",
      "execution_count": null,
      "metadata": {
        "id": "6Sz-GnZHJrgk"
      },
      "outputs": [],
      "source": [
        "# import os\n",
        "# os.environ[\"trust_remote_code\"] = 'True'\n",
        "#to run bleurt, you may have to run this in the terminal\n",
        "#the models are the column names of the generations that you want to evaluate\n",
        "!python -m truthfulqa.evaluate --models qa help harm null chat --metrics bleu bleurt --input_path /content/your-file-path-here --output_path TruthfulQA_answers_llama.csv --device 0"
      ]
    },
    {
      "cell_type": "code",
      "execution_count": null,
      "metadata": {
        "id": "XkOFDhBHMVga"
      },
      "outputs": [],
      "source": [
        "import pandas as pd\n",
        "summary = pd.read_csv('summary.csv')  # load the saved summary file from evaluate.py"
      ]
    },
    {
      "cell_type": "code",
      "execution_count": null,
      "metadata": {
        "id": "I7KMvzodS18p"
      },
      "outputs": [],
      "source": [
        "print(summary.to_string(index=False))"
      ]
    }
  ],
  "metadata": {
    "accelerator": "GPU",
    "colab": {
      "gpuType": "L4",
      "machine_shape": "hm",
      "provenance": []
    },
    "kernelspec": {
      "display_name": "Python 3",
      "name": "python3"
    },
    "language_info": {
      "name": "python"
    }
  },
  "nbformat": 4,
  "nbformat_minor": 0
}